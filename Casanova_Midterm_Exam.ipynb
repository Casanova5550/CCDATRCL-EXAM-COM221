{
  "nbformat": 4,
  "nbformat_minor": 0,
  "metadata": {
    "colab": {
      "provenance": [],
      "authorship_tag": "ABX9TyMa2MUFubEr95aRFdUuejnf",
      "include_colab_link": true
    },
    "kernelspec": {
      "name": "python3",
      "display_name": "Python 3"
    },
    "language_info": {
      "name": "python"
    }
  },
  "cells": [
    {
      "cell_type": "markdown",
      "metadata": {
        "id": "view-in-github",
        "colab_type": "text"
      },
      "source": [
        "<a href=\"https://colab.research.google.com/github/Casanova5550/CCDATRCL-EXAM-COM221/blob/main/Casanova_Midterm_Exam.ipynb\" target=\"_parent\"><img src=\"https://colab.research.google.com/assets/colab-badge.svg\" alt=\"Open In Colab\"/></a>"
      ]
    },
    {
      "cell_type": "code",
      "execution_count": 2,
      "metadata": {
        "colab": {
          "base_uri": "https://localhost:8080/"
        },
        "id": "UfIDbLb3nKG4",
        "outputId": "7d63f7bd-c933-4755-ca83-12a84e77db31"
      },
      "outputs": [
        {
          "output_type": "stream",
          "name": "stdout",
          "text": [
            "Between 1 and 9\n"
          ]
        }
      ],
      "source": [
        "\n",
        "1.\n",
        "\n",
        "def findLargestIncrease(student_number):\n",
        "    if len(student_number) < 2:\n",
        "        return \"Not enough numbers to find an increase.\"\n",
        "\n",
        "    largest_increase = 0\n",
        "    start_index = 0\n",
        "    end_index = 0\n",
        "\n",
        "    for i in range(len(student_number) - 1):\n",
        "        increase = student_number[i + 1] - student_number[i]\n",
        "        if increase > largest_increase:\n",
        "            largest_increase = increase\n",
        "            start_index = i\n",
        "            end_index = i + 1\n",
        "\n",
        "    if largest_increase == 0:\n",
        "        return \"No increase found.\"\n",
        "\n",
        "    return f\"Between {student_number[start_index]} and {student_number[end_index]}\"\n",
        "\n",
        "student_number = [2, 0, 2, 2, 6, 2, 5, 1, 9, 3]\n",
        "result = findLargestIncrease(student_number)\n",
        "print(result)\n",
        "\n",
        "\n",
        "\n",
        "\n",
        "\n",
        "\n"
      ]
    },
    {
      "cell_type": "code",
      "source": [
        "2.\n",
        "\n",
        "def findLargestDecrease(student_number):\n",
        "    if len(student_number) < 2:\n",
        "        return \"Not enough numbers to find a decrease.\"\n",
        "\n",
        "    largest_decrease = 0\n",
        "    start_index = 0\n",
        "    end_index = 0\n",
        "\n",
        "    for i in range(len(student_number) - 1):\n",
        "        decrease = student_number[i] - student_number[i + 1]\n",
        "        if decrease > largest_decrease:\n",
        "            largest_decrease = decrease\n",
        "            start_index = i\n",
        "            end_index = i + 1\n",
        "\n",
        "    if largest_decrease == 0:\n",
        "        return \"No decrease found.\"\n",
        "\n",
        "    return f\"Between {student_number[start_index]} and {student_number[end_index]}\"\n",
        "\n",
        "\n",
        "student_number = [2, 0, 2, 2, 6, 2, 5, 1, 9, 3]\n",
        "result = findLargestDecrease(student_number)\n",
        "print(result)"
      ],
      "metadata": {
        "colab": {
          "base_uri": "https://localhost:8080/"
        },
        "id": "MFT5vKQorbzA",
        "outputId": "b89f81b0-44ce-4cc4-cc38-02ffbeffc9cb"
      },
      "execution_count": 4,
      "outputs": [
        {
          "output_type": "stream",
          "name": "stdout",
          "text": [
            "Between 9 and 3\n"
          ]
        }
      ]
    },
    {
      "cell_type": "code",
      "source": [
        "3.\n",
        "\n",
        "class Node:\n",
        "    def __init__(self, data):\n",
        "        self.data = data\n",
        "        self.next = None\n",
        "\n",
        "\n",
        "class LinkedList:\n",
        "    def __init__(self):\n",
        "        self.head = None\n",
        "\n",
        "    def traverse(self, node):\n",
        "        while node:\n",
        "            print(node.data, end=\" -> \")\n",
        "            node = node.next\n",
        "\n",
        "\n",
        "num_list = LinkedList()\n",
        "\n",
        "\n",
        "student_number = [2, 0, 2, 2, 1, 2, 3, 4, 5, 6]\n",
        "for digit in student_number:\n",
        "    new_node = Node(digit)\n",
        "    if num_list.head is None:\n",
        "        num_list.head = new_node\n",
        "    else:\n",
        "        current = num_list.head\n",
        "        while current.next:\n",
        "            current = current.next\n",
        "        current.next = new_node\n",
        "\n",
        "\n",
        "num_list.traverse(num_list.head)\n",
        "\n",
        "\n",
        "\n",
        "\n"
      ],
      "metadata": {
        "colab": {
          "base_uri": "https://localhost:8080/"
        },
        "id": "YZ9sh6P_tJTE",
        "outputId": "4bdb2ccb-0cff-4c54-bc40-daf10396113f"
      },
      "execution_count": 5,
      "outputs": [
        {
          "output_type": "stream",
          "name": "stdout",
          "text": [
            "2 -> 0 -> 2 -> 2 -> 1 -> 2 -> 3 -> 4 -> 5 -> 6 -> "
          ]
        }
      ]
    },
    {
      "cell_type": "code",
      "source": [
        "4.\n",
        "\n",
        "def is_prime(n):\n",
        "    if n <= 1:\n",
        "        return False\n",
        "    if n <= 3:\n",
        "        return True\n",
        "    if n % 2 == 0 or n % 3 == 0:\n",
        "        return False\n",
        "    i = 5\n",
        "    while i * i <= n:\n",
        "        if n % i == 0 or n % (i + 2) == 0:\n",
        "            return False\n",
        "        i += 6\n",
        "    return True\n",
        "\n",
        "def hasPrime(num_list):\n",
        "\n",
        "    last_six_digits = num_list[-6:]\n",
        "\n",
        "\n",
        "    for digit in last_six_digits:\n",
        "        if is_prime(digit):\n",
        "            return True\n",
        "\n",
        "    return False\n",
        "\n",
        "\n",
        "student_number = [2, 0, 2, 2, 1, 2, 3, 4, 5, 6]\n",
        "result = hasPrime(student_number)\n",
        "print(result)\n"
      ],
      "metadata": {
        "colab": {
          "base_uri": "https://localhost:8080/"
        },
        "id": "vzHUQOVC3yEw",
        "outputId": "3768e557-db9a-48dc-db02-c50d2d4147b0"
      },
      "execution_count": 18,
      "outputs": [
        {
          "output_type": "stream",
          "name": "stdout",
          "text": [
            "True\n"
          ]
        }
      ]
    },
    {
      "cell_type": "code",
      "source": [
        "5.\n",
        "\n",
        "class Node:\n",
        "    def __init__(self, data):\n",
        "        self.data = data\n",
        "        self.next = None\n",
        "\n",
        "\n",
        "class LinkedList:\n",
        "    def __init__(self):\n",
        "        self.head = None\n",
        "\n",
        "    def traverse(self, node):\n",
        "        while node:\n",
        "            print(node.data, end=\" -> \")\n",
        "            node = node.next\n",
        "\n",
        "    def removeZeroes(self):\n",
        "        current = self.head\n",
        "        prev = None\n",
        "\n",
        "        while current:\n",
        "            if current.data == 0:\n",
        "                if prev is None:\n",
        "                    self.head = current.next\n",
        "                else:\n",
        "                    prev.next = current.next\n",
        "            else:\n",
        "                prev = current\n",
        "\n",
        "            current = current.next\n",
        "\n",
        "        if self.head is None:\n",
        "            return \"no zeros found\"\n",
        "        else:\n",
        "            return self\n",
        "\n",
        "\n",
        "num_list = LinkedList()\n",
        "\n",
        "\n",
        "student_number = [2, 0, 2, 2, 1, 2, 3, 4, 5, 6]\n",
        "for digit in student_number:\n",
        "    new_node = Node(digit)\n",
        "    if num_list.head is None:\n",
        "        num_list.head = new_node\n",
        "    else:\n",
        "        current = num_list.head\n",
        "        while current.next:\n",
        "            current = current.next\n",
        "        current.next = new_node\n",
        "\n",
        "\n",
        "result = num_list.removeZeroes()\n",
        "\n",
        "\n",
        "if isinstance(result, LinkedList):\n",
        "    result.traverse(result.head)\n",
        "else:\n",
        "    print(result)\n",
        "\n",
        "\n",
        "\n",
        "\n",
        "\n",
        "\n",
        "\n",
        "\n"
      ],
      "metadata": {
        "colab": {
          "base_uri": "https://localhost:8080/"
        },
        "id": "Hc4WVyNJt90A",
        "outputId": "97109657-5b7a-460d-be3c-ae7b5b2bfc74"
      },
      "execution_count": 7,
      "outputs": [
        {
          "output_type": "stream",
          "name": "stdout",
          "text": [
            "2 -> 2 -> 2 -> 1 -> 2 -> 3 -> 4 -> 5 -> 6 -> "
          ]
        }
      ]
    },
    {
      "cell_type": "code",
      "source": [
        " 6.\n",
        "\n",
        "class Node:\n",
        "    def __init__(self, data):\n",
        "        self.data = data\n",
        "        self.next = None\n",
        "\n",
        "class LinkedList:\n",
        "    def __init__(self):\n",
        "        self.head = None\n",
        "\n",
        "    def traverse(self, node):\n",
        "        while node:\n",
        "            print(node.data, end=\" -> \")\n",
        "            node = node.next\n",
        "\n",
        "    def removeZeroes(self):\n",
        "        current = self.head\n",
        "        prev = None\n",
        "\n",
        "        while current:\n",
        "            if current.data == 0:\n",
        "                if prev is None:\n",
        "                    self.head = current.next\n",
        "                else:\n",
        "                    prev.next = current.next\n",
        "            else:\n",
        "                prev = current\n",
        "\n",
        "            current = current.next\n",
        "\n",
        "        if self.head is None:\n",
        "            return \"no zeros found\"\n",
        "        else:\n",
        "            return self\n",
        "\n",
        "    def insertDash(self):\n",
        "        current = self.head\n",
        "        count = 1\n",
        "\n",
        "        while current:\n",
        "            if count == 4:\n",
        "                new_node = Node(\"-\")\n",
        "                new_node.next = current.next\n",
        "                current.next = new_node\n",
        "                count += 1\n",
        "            else:\n",
        "                count += 1\n",
        "            current = current.next\n",
        "\n",
        "\n",
        "num_list = LinkedList()\n",
        "\n",
        "\n",
        "student_number = [2, 0, 2, 2, 1, 2, 3, 4, 5, 6]\n",
        "for digit in student_number:\n",
        "    new_node = Node(digit)\n",
        "    if num_list.head is None:\n",
        "        num_list.head = new_node\n",
        "    else:\n",
        "        current = num_list.head\n",
        "        while current.next:\n",
        "            current = current.next\n",
        "        current.next = new_node\n",
        "\n",
        "\n",
        "num_list.insertDash()\n",
        "\n",
        "\n",
        "num_list.traverse(num_list.head)\n",
        "\n",
        "\n",
        "\n",
        "\n",
        "\n",
        "\n"
      ],
      "metadata": {
        "colab": {
          "base_uri": "https://localhost:8080/"
        },
        "id": "_w3q7BcxvTjR",
        "outputId": "04d2bc04-c843-4d7c-b2da-dffd077d9f1f"
      },
      "execution_count": 8,
      "outputs": [
        {
          "output_type": "stream",
          "name": "stdout",
          "text": [
            "2 -> 0 -> 2 -> 2 -> - -> 1 -> 2 -> 3 -> 4 -> 5 -> 6 -> "
          ]
        }
      ]
    },
    {
      "cell_type": "code",
      "source": [
        "7.\n",
        "\n",
        "first_name = \"ELIZER\"\n",
        "name_stack = list(first_name)\n",
        "\n",
        "\n",
        "student_number = \"2022123456\"\n",
        "num_stack = [int(digit) for digit in student_number]\n",
        "\n",
        "\n",
        "print(name_stack)\n",
        "print(num_stack)"
      ],
      "metadata": {
        "colab": {
          "base_uri": "https://localhost:8080/"
        },
        "id": "IM5qMiCVw648",
        "outputId": "0360688d-b158-49bf-af18-3ee64f306b68"
      },
      "execution_count": 9,
      "outputs": [
        {
          "output_type": "stream",
          "name": "stdout",
          "text": [
            "['E', 'L', 'I', 'Z', 'E', 'R']\n",
            "[2, 0, 2, 2, 1, 2, 3, 4, 5, 6]\n"
          ]
        }
      ]
    },
    {
      "cell_type": "code",
      "source": [
        "8.\n",
        "student_number = \"2022123456\"\n",
        "fifth_digit = int(student_number[4])\n",
        "\n",
        "\n",
        "first_name = \"ELIZER\"\n",
        "last_digit = int(student_number[-1])\n",
        "my_stack = [fifth_digit] + list(first_name) + [last_digit]\n",
        "\n",
        "\n",
        "print(\"my_stack =\", my_stack)"
      ],
      "metadata": {
        "colab": {
          "base_uri": "https://localhost:8080/"
        },
        "id": "cMoFOdKrxDbz",
        "outputId": "4a2ff430-e0cb-46e5-de82-04726fc9b267"
      },
      "execution_count": 10,
      "outputs": [
        {
          "output_type": "stream",
          "name": "stdout",
          "text": [
            "my_stack = [1, 'E', 'L', 'I', 'Z', 'E', 'R', 6]\n"
          ]
        }
      ]
    },
    {
      "cell_type": "code",
      "source": [
        "9.\n",
        "\n",
        "def verifyStack(my_stack):\n",
        "\n",
        "    if len(my_stack) != (len(name_stack) + len(num_stack) + 1):\n",
        "        return False\n",
        "\n",
        "\n",
        "    if my_stack[0] != num_stack[4] or my_stack[-1] != num_stack[-1]:\n",
        "        return False\n",
        "\n",
        "\n",
        "    for i in range(len(name_stack)):\n",
        "        if my_stack[i + 1] != name_stack[i]:\n",
        "            return False\n",
        "\n",
        "    return True\n",
        "\n",
        "first_name = \"ELIZER\"\n",
        "name_stack = list(first_name)\n",
        "student_number = \"2022123456\"\n",
        "num_stack = [int(digit) for digit in student_number]\n",
        "\n",
        "\n",
        "my_stack1 = [1, 'E', 'L', 'I', 'Z', 'E', 'R', 6]\n",
        "print(\"my_stack =\", my_stack1)\n",
        "print(\"verifyStack(my_stack1) =\", verifyStack(my_stack1))\n",
        "\n",
        "my_stack2 = [1, 'S', 'L', 'I', 'Z', 'E', 'R', 7]\n",
        "print(\"\\nmy_stack =\", my_stack2)\n",
        "print(\"verifyStack(my_stack2) =\", verifyStack(my_stack2))\n",
        "\n",
        "\n",
        "\n",
        "\n",
        "\n",
        "\n"
      ],
      "metadata": {
        "colab": {
          "base_uri": "https://localhost:8080/"
        },
        "id": "Az6IkR6sxY6F",
        "outputId": "1970af72-8e9d-4567-804c-240280550758"
      },
      "execution_count": 11,
      "outputs": [
        {
          "output_type": "stream",
          "name": "stdout",
          "text": [
            "my_stack = [1, 'E', 'L', 'I', 'Z', 'E', 'R', 6]\n",
            "verifyStack(my_stack1) = False\n",
            "\n",
            "my_stack = [1, 'S', 'L', 'I', 'Z', 'E', 'R', 7]\n",
            "verifyStack(my_stack2) = False\n"
          ]
        }
      ]
    },
    {
      "cell_type": "code",
      "source": [
        "10.\n",
        "\n",
        "from collections import deque\n",
        "\n",
        "\n",
        "student_number = \"2022123456\"\n",
        "num_queue = deque([int(digit) for digit in student_number])\n",
        "\n",
        "\n",
        "print(num_queue)"
      ],
      "metadata": {
        "colab": {
          "base_uri": "https://localhost:8080/"
        },
        "id": "9ERg2Es3yTIm",
        "outputId": "e3550d6e-5ab1-4de0-8853-7bff09724cc9"
      },
      "execution_count": 12,
      "outputs": [
        {
          "output_type": "stream",
          "name": "stdout",
          "text": [
            "deque([2, 0, 2, 2, 1, 2, 3, 4, 5, 6])\n"
          ]
        }
      ]
    },
    {
      "cell_type": "code",
      "source": [
        "11.\n",
        "\n",
        "from collections import deque\n",
        "\n",
        "\n",
        "student_number = \"2022123456\"\n",
        "num_queue = deque([int(digit) for digit in student_number])\n",
        "\n",
        "def getMax(num_queue):\n",
        "    if num_queue[-1] % 2 == 1:\n",
        "        return max(num_queue)\n",
        "    else:\n",
        "        return \"Student number ends with an even digit.\"\n",
        "\n",
        "\n",
        "def getMin(num_queue):\n",
        "    if num_queue[-1] % 2 == 0:\n",
        "        return min(num_queue)\n",
        "    else:\n",
        "        return \"Student number ends with an odd digit.\"\n",
        "\n",
        "\n",
        "last_digit = int(student_number[-1])\n",
        "if last_digit % 2 == 1:\n",
        "    result = getMax(num_queue)\n",
        "    print(\"getMax(num_queue) =\", result)\n",
        "else:\n",
        "    result = getMin(num_queue)\n",
        "    print(\"getMin(num_queue) =\", result)\n",
        "\n",
        "\n",
        "\n",
        "\n",
        "\n"
      ],
      "metadata": {
        "colab": {
          "base_uri": "https://localhost:8080/"
        },
        "id": "-nS1WgUUzOZH",
        "outputId": "30de8ccc-ca0a-4e4c-eff4-65d9abef899b"
      },
      "execution_count": 13,
      "outputs": [
        {
          "output_type": "stream",
          "name": "stdout",
          "text": [
            "getMin(num_queue) = 0\n"
          ]
        }
      ]
    },
    {
      "cell_type": "code",
      "source": [
        "12.\n",
        "\n",
        "from collections import deque\n",
        "\n",
        "\n",
        "student_number = \"2022123456\"\n",
        "num_queue = deque([int(digit) for digit in student_number])\n",
        "\n",
        "\n",
        "def getOdd(num_queue):\n",
        "    return [num for num in num_queue if num % 2 == 1]\n",
        "\n",
        "\n",
        "def getEven(num_queue):\n",
        "    return [num for num in num_queue if num % 2 == 0]\n",
        "\n",
        "\n",
        "last_digit = int(student_number[-1])\n",
        "if last_digit % 2 == 1:\n",
        "    result = getOdd(num_queue)\n",
        "    print(\"getOdd(num_queue) =\", result)\n",
        "else:\n",
        "    result = getEven(num_queue)\n",
        "    print(\"getEven(num_queue) =\", result)"
      ],
      "metadata": {
        "colab": {
          "base_uri": "https://localhost:8080/"
        },
        "id": "oUPajHK70AFE",
        "outputId": "a9c3fdb6-21b1-4ea9-a75f-420fbd2e6410"
      },
      "execution_count": 14,
      "outputs": [
        {
          "output_type": "stream",
          "name": "stdout",
          "text": [
            "getEven(num_queue) = [2, 0, 2, 2, 2, 4, 6]\n"
          ]
        }
      ]
    },
    {
      "cell_type": "code",
      "source": [
        "13.\n",
        "\n",
        "from collections import deque\n",
        "\n",
        "\n",
        "student_number = \"2022123456\"\n",
        "num_queue = deque([int(digit) for digit in student_number])\n",
        "\n",
        "\n",
        "def removeDup(num_queue):\n",
        "    seen = set()\n",
        "    result = deque()\n",
        "\n",
        "    for num in num_queue:\n",
        "        if num not in seen:\n",
        "            result.append(num)\n",
        "            seen.add(num)\n",
        "\n",
        "    return result\n",
        "\n",
        "\n",
        "result_queue = removeDup(num_queue)\n",
        "print(\"removeDup(num_queue) =\", list(result_queue))\n"
      ],
      "metadata": {
        "colab": {
          "base_uri": "https://localhost:8080/"
        },
        "id": "c9j4uQPE0Vjp",
        "outputId": "dbfc631b-ea88-4507-864d-77282059a37d"
      },
      "execution_count": 15,
      "outputs": [
        {
          "output_type": "stream",
          "name": "stdout",
          "text": [
            "removeDup(num_queue) = [2, 0, 1, 3, 4, 5, 6]\n"
          ]
        }
      ]
    },
    {
      "cell_type": "code",
      "source": [
        "14.\n",
        "\n",
        "\n",
        "student_number = [2, 0, 2, 2, 6, 2, 5, 1, 3, 4]\n",
        "\n",
        "\n",
        "student_number[-6:] = sorted(student_number[-6:])\n",
        "\n",
        "\n",
        "print(student_number)"
      ],
      "metadata": {
        "colab": {
          "base_uri": "https://localhost:8080/"
        },
        "id": "yTdMWEZL0wUH",
        "outputId": "be49f547-3570-4778-8502-70df43e4c8d0"
      },
      "execution_count": 16,
      "outputs": [
        {
          "output_type": "stream",
          "name": "stdout",
          "text": [
            "[2, 0, 2, 2, 1, 2, 3, 4, 5, 6]\n"
          ]
        }
      ]
    },
    {
      "cell_type": "code",
      "source": [
        "15.\n",
        "\n",
        "student_number = [2, 0, 2, 2, 1, 2, 3, 4, 5, 6]\n",
        "\n",
        "\n",
        "even_numbers = [num for num in student_number if num % 2 == 0]\n",
        "odd_numbers = [num for num in student_number if num % 2 != 0]\n",
        "\n",
        "\n",
        "even_numbers.sort()\n",
        "odd_numbers.sort(reverse=True)\n",
        "\n",
        "\n",
        "index_even = 0\n",
        "index_odd = 0\n",
        "\n",
        "for i in range(len(student_number)):\n",
        "    if student_number[i] % 2 == 0:\n",
        "        student_number[i] = even_numbers[index_even]\n",
        "        index_even += 1\n",
        "    else:\n",
        "        student_number[i] = odd_numbers[index_odd]\n",
        "        index_odd += 1\n",
        "\n",
        "print(student_number)"
      ],
      "metadata": {
        "colab": {
          "base_uri": "https://localhost:8080/"
        },
        "id": "EIzLgxib1Kc2",
        "outputId": "a09ea0cd-ebb2-4f6b-b3e3-da472ad57cc6"
      },
      "execution_count": 17,
      "outputs": [
        {
          "output_type": "stream",
          "name": "stdout",
          "text": [
            "[0, 2, 2, 2, 5, 2, 3, 4, 1, 6]\n"
          ]
        }
      ]
    }
  ]
}